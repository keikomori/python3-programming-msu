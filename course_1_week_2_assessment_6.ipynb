{
  "nbformat": 4,
  "nbformat_minor": 0,
  "metadata": {
    "colab": {
      "name": "course_1_week_2_assessment_6.ipynb",
      "provenance": [],
      "authorship_tag": "ABX9TyO9OEqsmaKKbnp1pR9+U/1l",
      "include_colab_link": true
    },
    "kernelspec": {
      "name": "python3",
      "display_name": "Python 3"
    }
  },
  "cells": [
    {
      "cell_type": "markdown",
      "metadata": {
        "id": "view-in-github",
        "colab_type": "text"
      },
      "source": [
        "<a href=\"https://colab.research.google.com/github/keikomori/python3-programming-msu/blob/main/course_1_week_2_assessment_6.ipynb\" target=\"_parent\"><img src=\"https://colab.research.google.com/assets/colab-badge.svg\" alt=\"Open In Colab\"/></a>"
      ]
    },
    {
      "cell_type": "markdown",
      "metadata": {
        "id": "PWv7YB25Ht7O"
      },
      "source": [
        "Write one for loop to print out each character of the string `my_str` on a separate line."
      ]
    },
    {
      "cell_type": "code",
      "metadata": {
        "id": "qvQQPImKHoZ8",
        "outputId": "3c87ec45-323c-4fbc-9a7d-4543b94ecb1a",
        "colab": {
          "base_uri": "https://localhost:8080/"
        }
      },
      "source": [
        "my_str = \"MICHIGAN\"\n",
        "\n",
        "for it in my_str:\n",
        "    print(it)"
      ],
      "execution_count": null,
      "outputs": [
        {
          "output_type": "stream",
          "text": [
            "M\n",
            "I\n",
            "C\n",
            "H\n",
            "I\n",
            "G\n",
            "A\n",
            "N\n"
          ],
          "name": "stdout"
        }
      ]
    },
    {
      "cell_type": "markdown",
      "metadata": {
        "id": "r4ViL9zEH8f4"
      },
      "source": [
        "Write one for loop to print out each element of the list `several_things`. Then, write another for loop to print out the TYPE of each element of the list `several_things`. To complete this problem you should have written two different for loops, each of which iterates over the list `several_things`, but each of those 2 for loops should have a different result."
      ]
    },
    {
      "cell_type": "code",
      "metadata": {
        "id": "0bgC78E7IH-9",
        "outputId": "cad462f2-fbab-4532-90d0-ee3917f26c70",
        "colab": {
          "base_uri": "https://localhost:8080/"
        }
      },
      "source": [
        "several_things = [\"hello\", 2, 4, 6.0, 7.5, 234352354, \"the end\", \"\", 99]\n",
        "\n",
        "for it in several_things:\n",
        "    print(it)\n",
        "    \n",
        "for i in several_things:\n",
        "    print(type(i))"
      ],
      "execution_count": null,
      "outputs": [
        {
          "output_type": "stream",
          "text": [
            "hello\n",
            "2\n",
            "4\n",
            "6.0\n",
            "7.5\n",
            "234352354\n",
            "the end\n",
            "\n",
            "99\n",
            "<class 'str'>\n",
            "<class 'int'>\n",
            "<class 'int'>\n",
            "<class 'float'>\n",
            "<class 'float'>\n",
            "<class 'int'>\n",
            "<class 'str'>\n",
            "<class 'str'>\n",
            "<class 'int'>\n"
          ],
          "name": "stdout"
        }
      ]
    },
    {
      "cell_type": "markdown",
      "metadata": {
        "id": "vKeCDPL8IOGQ"
      },
      "source": [
        "Write code that uses iteration to print out the length of each element of the list stored in `str_list`."
      ]
    },
    {
      "cell_type": "code",
      "metadata": {
        "id": "dAEVEGKAIQ0G",
        "outputId": "d4a23734-e37d-4f79-ae29-b9dcf4b8f47c",
        "colab": {
          "base_uri": "https://localhost:8080/"
        }
      },
      "source": [
        "str_list = [\"hello\", \"\", \"goodbye\", \"wonderful\", \"I love Python\"]\n",
        "\n",
        "# Write your code here.\n",
        "for it in str_list:\n",
        "    print(len(it))"
      ],
      "execution_count": null,
      "outputs": [
        {
          "output_type": "stream",
          "text": [
            "5\n",
            "0\n",
            "7\n",
            "9\n",
            "13\n"
          ],
          "name": "stdout"
        }
      ]
    },
    {
      "cell_type": "markdown",
      "metadata": {
        "id": "ZnsNB9RYIYla"
      },
      "source": [
        "Write code to count the number of characters in `original_str` using the accumulation pattern and assign the answer to a variable `num_chars`. Do NOT use the `len` function to solve the problem (if you use it while you are working on this problem, comment it out afterward!)"
      ]
    },
    {
      "cell_type": "code",
      "metadata": {
        "id": "AZqtNouvIe1_",
        "outputId": "52d233c7-39f3-4bce-9c45-a7e5601bb168",
        "colab": {
          "base_uri": "https://localhost:8080/"
        }
      },
      "source": [
        "original_str = \"The quick brown rhino jumped over the extremely lazy fox.\"\n",
        "\n",
        "num_chars = 0\n",
        "for it in original_str:\n",
        "    num_chars += 1\n",
        "\n",
        "print(num_chars)"
      ],
      "execution_count": null,
      "outputs": [
        {
          "output_type": "stream",
          "text": [
            "57\n"
          ],
          "name": "stdout"
        }
      ]
    },
    {
      "cell_type": "markdown",
      "metadata": {
        "id": "yxLQAMKCJtcj"
      },
      "source": [
        "`addition_str` is a string with a list of numbers separated by the `+` sign. Write code that uses the accumulation pattern to take the sum of all of the numbers and assigns it to `sum_val` (an integer). (You should use the `.split(\"+\")` function to split by `\"+\"` and `int()` to cast to an integer)."
      ]
    },
    {
      "cell_type": "code",
      "metadata": {
        "id": "BJ138D4FJ7FE",
        "outputId": "c0666542-f8b9-4538-f705-5eb0ddf559b2",
        "colab": {
          "base_uri": "https://localhost:8080/"
        }
      },
      "source": [
        "addition_str = \"2+5+10+20\"\n",
        "sum_val = 0\n",
        "for it in addition_str.split(\"+\"):\n",
        "    sum_val = sum_val + int(it)\n",
        "    print(it)\n",
        "\n",
        "print(sum_val)"
      ],
      "execution_count": null,
      "outputs": [
        {
          "output_type": "stream",
          "text": [
            "2\n",
            "5\n",
            "10\n",
            "20\n",
            "37\n"
          ],
          "name": "stdout"
        }
      ]
    },
    {
      "cell_type": "markdown",
      "metadata": {
        "id": "xclufjhLKj5R"
      },
      "source": [
        "`week_temps_f` is a string with a list of fahrenheit temperatures separated by the `,` sign. Write code that uses the accumulation pattern to compute the average (sum divided by number of items) and assigns it to `avg_temp`. Do not hard code your answer (i.e., make your code compute both the sum or the number of items in `week_temps_f`) (You should use the `.split(\",\")` function to split by `\",\"` and `float()` to cast to a float)."
      ]
    },
    {
      "cell_type": "code",
      "metadata": {
        "id": "zERqzKj0Kxpv"
      },
      "source": [
        "week_temps_f = \"75.1,77.7,83.2,82.5,81.0,79.5,85.7\"\n",
        "\n",
        "avg_temp = 0\n",
        "cnt = 0\n",
        "for it in week_temps_f.split(\",\"):\n",
        "    cnt += 1\n",
        "    avg_temp = avg_temp + float(it)\n",
        "\n",
        "avg_temp = avg_temp / cnt\n",
        "print(avg_temp)"
      ],
      "execution_count": null,
      "outputs": []
    },
    {
      "cell_type": "markdown",
      "metadata": {
        "id": "ARcEkaUELg8k"
      },
      "source": [
        "Write code to create a list of numbers from 0 to 67 and assign that list to the variable `nums`. Do not hard code the list."
      ]
    },
    {
      "cell_type": "code",
      "metadata": {
        "id": "n4oZgZiZVMMi",
        "outputId": "4bbbb4a3-7e3e-49c7-a0b7-224ddea83cd7",
        "colab": {
          "base_uri": "https://localhost:8080/"
        }
      },
      "source": [
        "nums = list()\n",
        "\n",
        "for it in range(68):\n",
        "    nums.append(it)\n",
        "print(nums)"
      ],
      "execution_count": null,
      "outputs": [
        {
          "output_type": "stream",
          "text": [
            "[0, 1, 2, 3, 4, 5, 6, 7, 8, 9, 10, 11, 12, 13, 14, 15, 16, 17, 18, 19, 20, 21, 22, 23, 24, 25, 26, 27, 28, 29, 30, 31, 32, 33, 34, 35, 36, 37, 38, 39, 40, 41, 42, 43, 44, 45, 46, 47, 48, 49, 50, 51, 52, 53, 54, 55, 56, 57, 58, 59, 60, 61, 62, 63, 64, 65, 66, 67]\n"
          ],
          "name": "stdout"
        }
      ]
    },
    {
      "cell_type": "markdown",
      "metadata": {
        "id": "MT7OsrlMVTZd"
      },
      "source": [
        "Write code to create a list of word lengths for the words in `original_str` using the accumulation pattern and assign the answer to a variable `num_words_list`. (You should use the `len` function)."
      ]
    },
    {
      "cell_type": "code",
      "metadata": {
        "id": "8MzzAwztVbJj",
        "outputId": "bf02ccbb-49c2-4001-aac1-ab9b70f63e87",
        "colab": {
          "base_uri": "https://localhost:8080/"
        }
      },
      "source": [
        "original_str = \"The quick brown rhino jumped over the extremely lazy fox\"\n",
        "num_words_list = []\n",
        "for it in original_str.split():\n",
        "    num_words = len(it)\n",
        "    num_words_list.append(num_words)\n",
        "print(num_words_list)"
      ],
      "execution_count": null,
      "outputs": [
        {
          "output_type": "stream",
          "text": [
            "[3, 5, 5, 5, 6, 4, 3, 9, 4, 3]\n"
          ],
          "name": "stdout"
        }
      ]
    },
    {
      "cell_type": "markdown",
      "metadata": {
        "id": "kgOERq8SWfyc"
      },
      "source": [
        "Create an empty string and assign it to the variable `lett`. Then using range, write code such that when your code is run, `lett` has 7 b’s `(\"bbbbbbb\")`."
      ]
    },
    {
      "cell_type": "code",
      "metadata": {
        "id": "5D87chftWlu4",
        "outputId": "e2f4d6a1-d9e7-436b-9fbc-d0dc26a48217",
        "colab": {
          "base_uri": "https://localhost:8080/"
        }
      },
      "source": [
        "lett = \"\"\n",
        "for it in range(7):\n",
        "    lett = lett + \"b\"\n",
        "    \n",
        "print(lett)"
      ],
      "execution_count": null,
      "outputs": [
        {
          "output_type": "stream",
          "text": [
            "bbbbbbb\n"
          ],
          "name": "stdout"
        }
      ]
    },
    {
      "cell_type": "markdown",
      "metadata": {
        "id": "Z45NdSpqXTlZ"
      },
      "source": [
        "Write a program that uses the turtle module and a for loop to draw something. It doesn’t have to be complicated, but draw something different than we have done in the past. (Hint: if you are drawing something complicated, it could get tedious to watch it draw over and over. Try setting `.speed(10)` for the turtle to draw fast, or `.speed(0)` for it to draw super fast with no animation.)"
      ]
    },
    {
      "cell_type": "code",
      "metadata": {
        "id": "WfWJQb46XZL0"
      },
      "source": [
        "import turtle\n",
        "\n",
        "sc = turtle.Screen()\n",
        "ta = turtle.Turtle()\n",
        "\n",
        "s = 1\n",
        "x = 20\n",
        "a = 15\n",
        "for it in range(50):\n",
        "    ta.speed(s)\n",
        "    s += 1\n",
        "    ta.forward(x)\n",
        "    x += 1\n",
        "    ta.left(a)\n",
        "    a += 2"
      ],
      "execution_count": null,
      "outputs": []
    }
  ]
}