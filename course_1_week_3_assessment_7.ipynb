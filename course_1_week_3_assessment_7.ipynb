{
  "nbformat": 4,
  "nbformat_minor": 0,
  "metadata": {
    "colab": {
      "name": "course_1_week_3_assessment_7.ipynb",
      "provenance": [],
      "authorship_tag": "ABX9TyPUppO+ER13VdtCyWiMghI7",
      "include_colab_link": true
    },
    "kernelspec": {
      "name": "python3",
      "display_name": "Python 3"
    }
  },
  "cells": [
    {
      "cell_type": "markdown",
      "metadata": {
        "id": "view-in-github",
        "colab_type": "text"
      },
      "source": [
        "<a href=\"https://colab.research.google.com/github/keikomori/python3-programming-msu/blob/main/course_1_week_3_assessment_7.ipynb\" target=\"_parent\"><img src=\"https://colab.research.google.com/assets/colab-badge.svg\" alt=\"Open In Colab\"/></a>"
      ]
    },
    {
      "cell_type": "markdown",
      "metadata": {
        "id": "mwoMwfztM9W1"
      },
      "source": [
        "`rainfall_mi` is a string that contains the average number of inches of rainfall in Michigan for every month (in inches) with every month separated by a comma. Write code to compute the number of months that have more than 3 inches of rainfall. Store the result in the variable `num_rainy_months`. In other words, count the number of items with values > 3.0."
      ]
    },
    {
      "cell_type": "code",
      "metadata": {
        "id": "YSnOJNT_M03I"
      },
      "source": [
        "rainfall_mi = \"1.65, 1.46, 2.05, 3.03, 3.35, 3.46, 2.83, 3.23, 3.5, 2.52, 2.8, 1.85\"\n",
        "num_rainy_months = 0\n",
        "rain = list()\n",
        "rain = rainfall_mi.split(\",\")\n",
        "print(rain)\n",
        "for i in rain:\n",
        "    if float(i) > 3.0:\n",
        "        num_rainy_months += 1\n",
        "print(num_rainy_months)"
      ],
      "execution_count": null,
      "outputs": []
    },
    {
      "cell_type": "markdown",
      "metadata": {
        "id": "mxS7l-IEOrn5"
      },
      "source": [
        "The variable `sentence` stores a string. Write code to determine how many words in `sentence` start and end with the same letter, including one-letter words. Store the result in the variable `same_letter_count`."
      ]
    },
    {
      "cell_type": "code",
      "metadata": {
        "id": "UuCUH81EO1fx"
      },
      "source": [
        "sentence = \"students flock to the arb for a variety of outdoor activities such as jogging and picnicking\"\n",
        "\n",
        "# Write your code here.\n",
        "same_letter_count = 0\n",
        "s = sentence.split(\" \")\n",
        "print(s)\n",
        "for i in s:\n",
        "    if i[0] == i[-1]:\n",
        "        same_letter_count += 1\n",
        "print(same_letter_count)"
      ],
      "execution_count": null,
      "outputs": []
    },
    {
      "cell_type": "markdown",
      "metadata": {
        "id": "6Uj7J6tdQ3y0"
      },
      "source": [
        "Write code to count the number of strings in list items that have the character w in it. Assign that number to the variable acc_num.\n",
        "\n",
        "HINT 1: Use the accumulation pattern!\n",
        "\n",
        "HINT 2: the in operator checks whether a substring is present in a string."
      ]
    },
    {
      "cell_type": "code",
      "metadata": {
        "id": "y1axBHNVQ4Uy"
      },
      "source": [
        "items = [\"whirring\", \"wow!\", \"calendar\", \"wry\", \"glass\", \"\", \"llama\",\"tumultuous\",\"owing\"]\n",
        "\n",
        "acc_num = 0\n",
        "for i in range(len(items)):\n",
        "    word = items[i]\n",
        "    num = 0\n",
        "    for char in word:\n",
        "        if char in \"w\":\n",
        "            num += 1\n",
        "    if num != 0:\n",
        "        acc_num += 1\n",
        "print(acc_num)"
      ],
      "execution_count": null,
      "outputs": []
    },
    {
      "cell_type": "markdown",
      "metadata": {
        "id": "qaJzyn0kQ5Mc"
      },
      "source": [
        "Write code that counts the number of words in `sentence` that contain either an “a” or an “e”. Store the result in the variable `num_a_or_e`.\n",
        "\n",
        "Note 1: be sure to not double-count words that contain both an a and an e.\n",
        "\n",
        "HINT 1: Use the `in` operator.\n",
        "\n",
        "HINT 2: You can either use `or` or `elif`.\n"
      ]
    },
    {
      "cell_type": "code",
      "metadata": {
        "id": "lMwLBLUNQ7_W"
      },
      "source": [
        "sentence = \"python is a high level general purpose programming language that can be applied to many different classes of problems.\"\n",
        "s = sentence.split(\" \")\n",
        "num_a_or_e = 0\n",
        "for i in s:\n",
        "    num = 0\n",
        "    for char in i:\n",
        "        if char in ['a', 'e']:\n",
        "            num += 1\n",
        "    if num != 0:\n",
        "        num_a_or_e += 1\n",
        "print(num_a_or_e)"
      ],
      "execution_count": null,
      "outputs": []
    },
    {
      "cell_type": "markdown",
      "metadata": {
        "id": "d1P3S5qmQtga"
      },
      "source": [
        "Write code that will count the number of vowels in the sentence s and assign the result to the variable `num_vowels`. For this problem, vowels are only a, e, i, o, and u. Hint: use the in operator with `vowels`."
      ]
    },
    {
      "cell_type": "code",
      "metadata": {
        "id": "_XAcwCJCQt2y",
        "outputId": "0ea3272a-39df-4e8f-91aa-186a64f11cea",
        "colab": {
          "base_uri": "https://localhost:8080/"
        }
      },
      "source": [
        "s = \"singing in the rain and playing in the rain are two entirely different situations but both can be fun\"\n",
        "vowels = ['a','e','i','o','u']\n",
        "\n",
        "# Write your code here.\n",
        "num_vowels = 0\n",
        "for i in s:\n",
        "    if i in vowels:\n",
        "        num_vowels += 1\n",
        "print(num_vowels)"
      ],
      "execution_count": 1,
      "outputs": [
        {
          "output_type": "stream",
          "text": [
            "32\n"
          ],
          "name": "stdout"
        }
      ]
    }
  ]
}