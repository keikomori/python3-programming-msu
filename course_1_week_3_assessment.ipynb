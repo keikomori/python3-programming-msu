{
  "nbformat": 4,
  "nbformat_minor": 0,
  "metadata": {
    "colab": {
      "name": "course_1_assessment_week3.ipynb",
      "provenance": [],
      "authorship_tag": "ABX9TyMQRe2gEAH9VT8ue+Sb8eOT",
      "include_colab_link": true
    },
    "kernelspec": {
      "name": "python3",
      "display_name": "Python 3"
    }
  },
  "cells": [
    {
      "cell_type": "markdown",
      "metadata": {
        "id": "view-in-github",
        "colab_type": "text"
      },
      "source": [
        "<a href=\"https://colab.research.google.com/github/keikomori/python3-programming-msu/blob/main/course_1_assessment_week3.ipynb\" target=\"_parent\"><img src=\"https://colab.research.google.com/assets/colab-badge.svg\" alt=\"Open In Colab\"/></a>"
      ]
    },
    {
      "cell_type": "markdown",
      "metadata": {
        "id": "xAHnPV6Sp9Hq"
      },
      "source": [
        "Write code to assign the string `\"You can apply to SI!\"` to output if the string `\"SI 106\"` is in the list courses. If it is not in courses, assign the value `\"Take SI 106!\"` to the variable output."
      ]
    },
    {
      "cell_type": "code",
      "metadata": {
        "id": "C3Hphourp8YR",
        "outputId": "6bd6e170-18ec-4e16-f1c1-e662a8bd5edf",
        "colab": {
          "base_uri": "https://localhost:8080/"
        }
      },
      "source": [
        "courses = [\"ENGR 101\", \"SI 110\", \"ENG 125\", \"SI 106\", \"CHEM 130\"]\n",
        "output = \"You can apply to SI!\"\n",
        "if \"SI 106\" in courses:\n",
        "    print(output)\n",
        "else:\n",
        "    print(\"Take SI 106!\")"
      ],
      "execution_count": 1,
      "outputs": [
        {
          "output_type": "stream",
          "text": [
            "You can apply to SI!\n"
          ],
          "name": "stdout"
        }
      ]
    },
    {
      "cell_type": "markdown",
      "metadata": {
        "id": "jPOU6vk-q1BO"
      },
      "source": [
        "Create a variable, `b`, and assign it the value of `15`. Then, write code to see if the value `b` is greater than that of a. If it is, `a`’s value should be multiplied by 2. If the value of `b` is less than or equal to `a`, nothing should happen. Finally, create variable `c` and assign it the value of the sum of `a` and `b`."
      ]
    },
    {
      "cell_type": "code",
      "metadata": {
        "id": "EcR7jjtJrCGU",
        "outputId": "b7f1e8a9-359d-44bf-d9d0-ceeb81f1b7b2",
        "colab": {
          "base_uri": "https://localhost:8080/"
        }
      },
      "source": [
        "a = 20\n",
        "b = 15\n",
        "\n",
        "if b > a:\n",
        "    a = a * 2\n",
        "c = a + b\n",
        "print(c)"
      ],
      "execution_count": 5,
      "outputs": [
        {
          "output_type": "stream",
          "text": [
            "35\n"
          ],
          "name": "stdout"
        }
      ]
    },
    {
      "cell_type": "markdown",
      "metadata": {
        "id": "-jewxvgRtwH9"
      },
      "source": [
        "Create one conditional to find whether “false” is in string `str1`. If so, assign variable output the string `“False. You aren’t you?”`. Check to see if `“true”` is in string str1 and if it is then assign `“True! You are you!”` to the variable output. If neither are in str1, assign `“Neither true nor false!”` to output."
      ]
    },
    {
      "cell_type": "code",
      "metadata": {
        "id": "yIonwSKSt3xs",
        "outputId": "a8d52958-6fa1-4c99-c9c1-efaa80e8e8b8",
        "colab": {
          "base_uri": "https://localhost:8080/"
        }
      },
      "source": [
        "str1 = \"Today you are you! That is truer than true! There is no one alive who is you-er than you!\"\n",
        "\n",
        "if \"false\" in str1:\n",
        "    output = \"False. You aren't you?\"\n",
        "elif \"true\" in str1:\n",
        "    output = \"True! You are you!\"\n",
        "else:\n",
        "    output = \"Neither true nor false!\"\n",
        "print(output)"
      ],
      "execution_count": 4,
      "outputs": [
        {
          "output_type": "stream",
          "text": [
            "True! You are you!\n"
          ],
          "name": "stdout"
        }
      ]
    },
    {
      "cell_type": "markdown",
      "metadata": {
        "id": "ZAFyv63xt-DV"
      },
      "source": [
        "Create an empty list called `resps`. Using the list `percent_rain`, for each percent, if it is above 90, add the string ‘Bring an umbrella.’ to `resps`, otherwise if it is above 80, add the string ‘Good for the flowers?’ to `resps`, otherwise if it is above 50, add the string ‘Watch out for clouds!’ to `resps`, otherwise, add the string ‘Nice day!’ to `resps`. Note: if you’re sure you’ve got the problem right but it doesn’t pass, then check that you’ve matched up the strings exactly."
      ]
    },
    {
      "cell_type": "code",
      "metadata": {
        "id": "M3dsQHORuNxd",
        "outputId": "46863223-9c52-4ee0-a08b-f04854e22b75",
        "colab": {
          "base_uri": "https://localhost:8080/"
        }
      },
      "source": [
        "percent_rain = [94.3, 45, 100, 78, 16, 5.3, 79, 86]\n",
        "resps = list()\n",
        "for i in percent_rain:\n",
        "    if i > 90.0:\n",
        "        r = \"Bring an umbrella.\"\n",
        "    elif i > 80.0:\n",
        "        r = \"Good for the flowers?\"\n",
        "    elif i > 50.0:\n",
        "        r = \"Watch out for clouds!\"\n",
        "    else:\n",
        "        r = \"Nice day!\"\n",
        "    \n",
        "    resps.append(r)\n",
        "print(resps)"
      ],
      "execution_count": 9,
      "outputs": [
        {
          "output_type": "stream",
          "text": [
            "['Bring an umbrella.', 'Nice day!', 'Bring an umbrella.', 'Watch out for clouds!', 'Nice day!', 'Nice day!', 'Watch out for clouds!', 'Good for the flowers?']\n"
          ],
          "name": "stdout"
        }
      ]
    },
    {
      "cell_type": "markdown",
      "metadata": {
        "id": "oVgB6GsJHk5v"
      },
      "source": [
        "The Accumulator pattern with conditionals"
      ]
    },
    {
      "cell_type": "code",
      "metadata": {
        "id": "9I0685dFHoS-",
        "outputId": "e323b01a-5f44-4a59-992c-db505926f73d",
        "colab": {
          "base_uri": "https://localhost:8080/"
        }
      },
      "source": [
        "nums = [9, 3, 8, 11, 5, 29, 2]\n",
        "\n",
        "best_num = nums[0]\n",
        "for n in nums:\n",
        "  if n > best_num:\n",
        "    best_num = n\n",
        "print(best_num)"
      ],
      "execution_count": 10,
      "outputs": [
        {
          "output_type": "stream",
          "text": [
            "29\n"
          ],
          "name": "stdout"
        }
      ]
    },
    {
      "cell_type": "code",
      "metadata": {
        "id": "kOdMS_h0IR69",
        "outputId": "f73fcca5-e3ff-4bbd-a323-b349d0774aa8",
        "colab": {
          "base_uri": "https://localhost:8080/"
        }
      },
      "source": [
        "nums = [9, 3, 8, 11, 5, 29, 2]\n",
        "\n",
        "min_value = 0\n",
        "for n in nums:\n",
        "  if n < min_value:\n",
        "    min_value = n\n",
        "print(min_value)"
      ],
      "execution_count": 11,
      "outputs": [
        {
          "output_type": "stream",
          "text": [
            "0\n"
          ],
          "name": "stdout"
        }
      ]
    },
    {
      "cell_type": "markdown",
      "metadata": {
        "id": "JVfIzVheJXT6"
      },
      "source": [
        "For each string in the list `words`, find the number of characters in the string. If the number of characters in the string is greater than 3, add 1 to the variable `num_words` so that `num_words` should end up with the total number of words with more than 3 characters.\n"
      ]
    },
    {
      "cell_type": "code",
      "metadata": {
        "id": "pNFXUXYyJeNS",
        "outputId": "8dd4bdd1-3ab2-4f63-f90a-087fa7f1a06f",
        "colab": {
          "base_uri": "https://localhost:8080/"
        }
      },
      "source": [
        "words = [\"water\", \"chair\", \"pen\", \"basket\", \"hi\", \"car\"]\n",
        "num_words = 0\n",
        "for i in words:\n",
        "    if len(i) > 3:\n",
        "        num_words += 1\n",
        "print(num_words)"
      ],
      "execution_count": 13,
      "outputs": [
        {
          "output_type": "stream",
          "text": [
            "3\n"
          ],
          "name": "stdout"
        }
      ]
    },
    {
      "cell_type": "markdown",
      "metadata": {
        "id": "ePitT3HIJ36G"
      },
      "source": [
        "Challenge For each word in `words`, add ‘d’ to the end of the word if the word ends in “e” to make it past tense. Otherwise, add ‘ed’ to make it past tense. Save these past tense words to a list called `past_tense`."
      ]
    },
    {
      "cell_type": "code",
      "metadata": {
        "id": "A1oLLkGHLILs",
        "outputId": "2bd432bc-1b62-4ff2-fc1c-2ece6c615d2c",
        "colab": {
          "base_uri": "https://localhost:8080/"
        }
      },
      "source": [
        "words = [\"adopt\", \"bake\", \"beam\", \"confide\", \"grill\", \"plant\", \"time\", \"wave\", \"wish\"]\n",
        "\n",
        "past_tense = list()\n",
        "p = \"\"\n",
        "for i in words:\n",
        "    if i[-1] is \"e\":\n",
        "        p = i + \"d\"\n",
        "        past_tense.append(p)\n",
        "    else:\n",
        "        p = i + \"ed\"\n",
        "        past_tense.append(p)\n",
        "print(past_tense)"
      ],
      "execution_count": 12,
      "outputs": [
        {
          "output_type": "stream",
          "text": [
            "['adopted', 'baked', 'beamed', 'confided', 'grilled', 'planted', 'timed', 'waved', 'wished']\n"
          ],
          "name": "stdout"
        }
      ]
    },
    {
      "cell_type": "markdown",
      "metadata": {
        "id": "o8JCLTyLLI-x"
      },
      "source": [
        ""
      ]
    }
  ]
}
